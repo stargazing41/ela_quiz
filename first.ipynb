{
 "cells": [
  {
   "cell_type": "code",
   "execution_count": 2,
   "metadata": {},
   "outputs": [],
   "source": [
    "import spacy\n",
    "import random\n",
    "import nlp_dictionary as nlp_dictionary\n",
    "from nyt_topics_api import nyt_topics_sents"
   ]
  },
  {
   "cell_type": "code",
   "execution_count": 3,
   "metadata": {},
   "outputs": [],
   "source": [
    "def ela_quiz(sentence, word_to_blank, list_of_other_words):\n",
    "    ns = sentence.split()\n",
    "    for i in range (0, len(ns)):\n",
    "        if ns[i] == word_to_blank:\n",
    "            ns[i]=\"____\"\n",
    "    ens=\" \".join(ns)\n",
    "    print(ens)\n",
    "    array=random.sample(list_of_other_words, len(list_of_other_words))\n",
    "    alphabet=\"ABCDE\"\n",
    "    y = dict()\n",
    "    for x in range (0, len(array)):\n",
    "        print(alphabet[x], \".\" , array[x])\n",
    "        y[array[x]] = alphabet[x]\n",
    "    return(y)\n",
    "\n",
    "def sent_w_word (sents, words):\n",
    "    for v in range (len(sents)):\n",
    "        if words in sents[v].split():\n",
    "            return(sents[v])"
   ]
  },
  {
   "cell_type": "code",
   "execution_count": 7,
   "metadata": {},
   "outputs": [],
   "source": [
    "nlp = spacy.load(\"en_core_web_sm\")\n",
    "nyt=nyt_topics_sents()\n",
    "nlp_my = nlp_dictionary.nlp_dictionary()\n",
    "nlp = spacy.load(\"en_core_web_sm\")\n",
    "\n",
    "words = nlp_my.get_504_words()\n",
    "\n",
    "nytimes = nyt.get_all(4)"
   ]
  },
  {
   "cell_type": "code",
   "execution_count": 25,
   "metadata": {},
   "outputs": [
    {
     "name": "stdout",
     "output_type": "stream",
     "text": [
      "if you are typing a b c or d you MUST type in all caps.\n",
      "The troubled real estate giant faced the ____ of default if it didnt meet its obligations to foreign bondholders by Saturday.\n",
      "A . threat\n",
      "B . unacceptable\n",
      "C . apparent\n",
      "D . undermine\n",
      "A\n",
      "correct\n",
      "General Motors, Toyota, Honda, Stellantis and Nissan reported ____ declines as problems in the global supply chain held down output and inventories.\n",
      "A . impact\n",
      "B . recent\n",
      "C . successful\n",
      "D . survey\n",
      "B\n",
      "correct\n",
      "At the upcoming climate ____ in Scotland, the goal is to avoid catastrophe.\n",
      "A . climb\n",
      "B . ridge\n",
      "C . summit\n",
      "D . mountain\n",
      "C\n",
      "correct\n",
      "He created a lightweight, ____ board out of a piece of foam in his backyard in Hawaii in 1971.\n",
      "A . secure\n",
      "B . flexible\n",
      "C . easy\n",
      "D . bendable\n",
      "D\n",
      "inncorrect\n",
      "D\n",
      "inncorrect\n",
      "D\n",
      "inncorrect\n",
      "D\n",
      "inncorrect\n",
      "D\n",
      "inncorrect\n",
      "D\n",
      "inncorrect\n",
      "D\n",
      "inncorrect\n",
      "D\n",
      "inncorrect\n",
      "DA\n",
      "inncorrect\n",
      "A\n",
      "inncorrect\n",
      "B\n",
      "correct\n",
      "Seeing theater these days can involve waiting in lines to show proof of vaccination and getting ____ coronavirus tests for young children.\n",
      "A . significant\n",
      "B . development\n",
      "C . decrease\n",
      "D . rapid\n",
      "C\n",
      "inncorrect\n",
      "D\n",
      "correct\n",
      "end of this session\n",
      "you might want to study these words ['flexible', 'rapid'] you got this many wrong 11\n"
     ]
    }
   ],
   "source": [
    "raw_text = nytimes\n",
    "doc = nlp(raw_text)\n",
    "sentences = [str(t) for t in doc.sents]\n",
    "\n",
    "words = random.sample(words, len(words))\n",
    "\n",
    "wrong = []\n",
    "yes = 0\n",
    "nope = 0\n",
    "lc = 0\n",
    "print(\"if you are typing a b c or d you MUST type in all caps.\")\n",
    "for l in range (len(words)):\n",
    "    step_2 = sent_w_word (sentences, words[l])\n",
    "    if step_2 is not None:\n",
    "        if lc < 5:\n",
    "            correct_anwser = words[l]\n",
    "            s = nlp_my.get_synonyms_spacy_english(words[l], 3)\n",
    "            list_of_other_words = [words[l]] + s\n",
    "            to = ela_quiz(step_2, words[l], list_of_other_words)\n",
    "            correct = 0\n",
    "            while (correct == 0):\n",
    "                inpot = input()\n",
    "                if inpot == to[correct_anwser]:\n",
    "                    correct = 1\n",
    "                    print(\"correct\")\n",
    "                else:\n",
    "                    correct = 0\n",
    "                    nope = nope+1\n",
    "                    if correct_anwser not in wrong:\n",
    "                        wrong.append(correct_anwser)\n",
    "                    print(\"inncorrect\")\n",
    "        else:\n",
    "            print(\"end of this session\")\n",
    "            print(\"you might want to study these words\", wrong, \"you got this many wrong\", nope)\n",
    "            break\n",
    "                \n",
    "        lc = lc + 1"
   ]
  },
  {
   "cell_type": "code",
   "execution_count": null,
   "metadata": {},
   "outputs": [],
   "source": []
  },
  {
   "cell_type": "code",
   "execution_count": 24,
   "metadata": {},
   "outputs": [
    {
     "data": {
      "text/plain": [
       "['guide', 'visible', 'event', 'related']"
      ]
     },
     "execution_count": 24,
     "metadata": {},
     "output_type": "execute_result"
    }
   ],
   "source": [
    "wrong"
   ]
  }
 ],
 "metadata": {
  "kernelspec": {
   "display_name": "Python 3",
   "language": "python",
   "name": "python3"
  },
  "language_info": {
   "codemirror_mode": {
    "name": "ipython",
    "version": 3
   },
   "file_extension": ".py",
   "mimetype": "text/x-python",
   "name": "python",
   "nbconvert_exporter": "python",
   "pygments_lexer": "ipython3",
   "version": "3.7.7"
  }
 },
 "nbformat": 4,
 "nbformat_minor": 4
}
