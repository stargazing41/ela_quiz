{
 "cells": [
  {
   "cell_type": "code",
   "execution_count": 70,
   "metadata": {},
   "outputs": [],
   "source": [
    "import spacy\n",
    "import random\n",
    "import nlp_dictionary as nlp_dictionary\n",
    "from nyt_topics_api import nyt_topics_sents"
   ]
  },
  {
   "cell_type": "code",
   "execution_count": 159,
   "metadata": {},
   "outputs": [],
   "source": [
    "def ela_quiz(sentence, word_to_blank, list_of_other_words):\n",
    "    ns = sentence.split()\n",
    "    for i in range (0, len(ns)):\n",
    "        if ns[i] == word_to_blank:\n",
    "            ns[i]=\"____\"\n",
    "    ens=\" \".join(ns)\n",
    "    print(ens)\n",
    "    array=random.sample(list_of_other_words, len(list_of_other_words))\n",
    "    alphabet=\"ABCDE\"\n",
    "    y = dict()\n",
    "    for x in range (0, len(array)):\n",
    "        print(alphabet[x], \".\" , array[x])\n",
    "        y[array[x]] = alphabet[x]\n",
    "    return(y)\n",
    "\n",
    "def sent_w_word (sents, words):\n",
    "    for v in range (len(sents)):\n",
    "        if words in sents[v].split():\n",
    "            return(sents[v])"
   ]
  },
  {
   "cell_type": "code",
   "execution_count": 158,
   "metadata": {},
   "outputs": [],
   "source": [
    "nlp = spacy.load(\"en_core_web_sm\")\n",
    "nyt=nyt_topics_sents()\n",
    "nlp_my = nlp_dictionary.nlp_dictionary()\n",
    "nlp = spacy.load(\"en_core_web_sm\")"
   ]
  },
  {
   "cell_type": "code",
   "execution_count": 157,
   "metadata": {},
   "outputs": [],
   "source": [
    "words = nlp_my.get_504_words()"
   ]
  },
  {
   "cell_type": "code",
   "execution_count": 68,
   "metadata": {},
   "outputs": [
    {
     "name": "stdout",
     "output_type": "stream",
     "text": [
      "None\n"
     ]
    }
   ],
   "source": [
    "r=sent_w_word(sentences, words[3])"
   ]
  },
  {
   "cell_type": "code",
   "execution_count": null,
   "metadata": {},
   "outputs": [],
   "source": [
    " #!python3 -m spacy download en_core_web_lg"
   ]
  },
  {
   "cell_type": "code",
   "execution_count": 155,
   "metadata": {},
   "outputs": [],
   "source": [
    "nytimes = nyt.get_all(4)"
   ]
  },
  {
   "cell_type": "code",
   "execution_count": 100,
   "metadata": {},
   "outputs": [],
   "source": []
  },
  {
   "cell_type": "code",
   "execution_count": 162,
   "metadata": {},
   "outputs": [
    {
     "name": "stdout",
     "output_type": "stream",
     "text": [
      "if you are typing a b c or d you MUST type in all caps.\n",
      "Among other things, Adam Laxalt, a U.S. Senate ____ in Nevada, described his suspicions about a donation to his run for governor in 2018.\n",
      "A . representative\n",
      "B . congressman\n",
      "C . position\n",
      "D . candidate\n",
      "A\n",
      "inncorrect\n",
      "B\n",
      "inncorrect\n",
      "C\n",
      "inncorrect\n",
      "D\n",
      "correct\n",
      "Coronavirus testing prices vary widely and can reach into the hundreds of dollars, making it hard for some travelers to ____ for the added expense.\n",
      "A . outlay\n",
      "B . fund\n",
      "C . federal\n",
      "D . budget\n",
      "A\n",
      "inncorrect\n",
      "B\n",
      "inncorrect\n",
      "C\n",
      "inncorrect\n",
      "D\n",
      "correct\n",
      "A damning ____ depicts a company with all the information it needs to fix the egregious oversights and mistakes of the past.\n",
      "A . manipulate\n",
      "B . expose\n",
      "C . engage\n",
      "D . hide\n",
      "A\n",
      "inncorrect\n",
      "B\n",
      "correct\n",
      "The veteran tech ____ Walt Mossberg unpacks the Facebook Files with historical context and personal anecdotes.\n",
      "A . sociologist\n",
      "B . journalist\n",
      "C . editorial\n",
      "D . anthropologist\n",
      "A\n",
      "inncorrect\n",
      "B\n",
      "correct\n",
      "At Berlins FIND festival of new international drama, some plays tackle big themes while others ____ being useful.\n",
      "A . nullify\n",
      "B . conclude\n",
      "C . abolish\n",
      "D . reject\n",
      "A\n",
      "inncorrect\n",
      "B\n",
      "inncorrect\n",
      "C\n",
      "inncorrect\n",
      "D\n",
      "correct\n",
      "end of this session\n"
     ]
    }
   ],
   "source": [
    "raw_text = nytimes\n",
    "doc = nlp(raw_text)\n",
    "sentences = [str(t) for t in doc.sents]\n",
    "\n",
    "words = random.sample(words, len(words))\n",
    "\n",
    "lc = 0\n",
    "print(\"if you are typing a b c or d you MUST type in all caps.\")\n",
    "for l in range (len(words)):\n",
    "    step_2 = sent_w_word (sentences, words[l])\n",
    "    if step_2 is not None:\n",
    "        if lc < 5:\n",
    "            correct_anwser = words[l]\n",
    "            s = nlp_my.get_synonyms_spacy_english(words[l], 3)\n",
    "            list_of_other_words = [words[l]] + s\n",
    "            to = ela_quiz(step_2, words[l], list_of_other_words)\n",
    "            correct = 0\n",
    "            while (correct == 0):\n",
    "                inpot = input()\n",
    "                if inpot == to[correct_anwser]:\n",
    "                    correct = 1\n",
    "                    print(\"correct\")\n",
    "                else:\n",
    "                    correct = 0\n",
    "                    print(\"inncorrect\")\n",
    "        else:\n",
    "            print(\"end of this session\")\n",
    "            break\n",
    "                \n",
    "        lc = lc + 1"
   ]
  }
 ],
 "metadata": {
  "kernelspec": {
   "display_name": "Python 3",
   "language": "python",
   "name": "python3"
  },
  "language_info": {
   "codemirror_mode": {
    "name": "ipython",
    "version": 3
   },
   "file_extension": ".py",
   "mimetype": "text/x-python",
   "name": "python",
   "nbconvert_exporter": "python",
   "pygments_lexer": "ipython3",
   "version": "3.7.7"
  }
 },
 "nbformat": 4,
 "nbformat_minor": 4
}
